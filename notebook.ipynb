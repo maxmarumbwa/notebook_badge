{
 "cells": [
  {
   "cell_type": "markdown",
   "metadata": {},
   "source": []
  },
  {
   "cell_type": "markdown",
   "metadata": {},
   "source": [
    "[![Open In Colab](https://colab.research.google.com/assets/colab-badge.svg)](https://colab.research.google.com/github/maxmarumbwa/notebook_badge/blob/main/notebook.ipynb)"
   ]
  },
  {
   "cell_type": "markdown",
   "metadata": {},
   "source": [
    "# Introduction to GIS programming\n",
    "### Python \n",
    "- python variables\n",
    "- python functions\n",
    "### Web mapping\n",
    "- introduction to leaf map\n",
    "- Creating first map\n"
   ]
  },
  {
   "cell_type": "markdown",
   "metadata": {},
   "source": [
    "## Python\n",
    "### Python variables\n",
    "Variables are containers used for storing values that can be used store values that can be used later in a program /code. An example of python variable definition is shown below: \n"
   ]
  },
  {
   "cell_type": "code",
   "execution_count": 5,
   "metadata": {},
   "outputs": [
    {
     "name": "stdout",
     "output_type": "stream",
     "text": [
      "Full Name: Farai Marumbwa\n"
     ]
    }
   ],
   "source": [
    "# Assigning a value to a variable\n",
    "name = \"Farai\"\n",
    "surname= \"Marumbwa\"\n",
    "\n",
    "# Print the full name\n",
    "print(\"Full Name:\", name+ \" \" + surname)"
   ]
  },
  {
   "cell_type": "markdown",
   "metadata": {},
   "source": [
    "### Python Functions\n",
    "These are blocks of code which enhance efficiency do to their reuseability and thus avoiding redundancy.An example of a python function for calculating area of a circle is shown below"
   ]
  },
  {
   "cell_type": "code",
   "execution_count": 2,
   "metadata": {},
   "outputs": [],
   "source": [
    "# Defining a simple function\n",
    "def calculate_area(radius):\n",
    "    pi = 3.14159\n",
    "    area = pi * (radius ** 2)\n",
    "    return area\n"
   ]
  },
  {
   "cell_type": "markdown",
   "metadata": {},
   "source": [
    "### Leaflet Mapping"
   ]
  },
  {
   "cell_type": "code",
   "execution_count": 3,
   "metadata": {},
   "outputs": [
    {
     "data": {
      "application/vnd.jupyter.widget-view+json": {
       "model_id": "03600f21ecbc404fa7a51ca03c142977",
       "version_major": 2,
       "version_minor": 0
      },
      "text/plain": [
       "Map(center=[-18.286389, 30.517223], controls=(ZoomControl(options=['position', 'zoom_in_text', 'zoom_in_title'…"
      ]
     },
     "execution_count": 3,
     "metadata": {},
     "output_type": "execute_result"
    }
   ],
   "source": [
    "### Leaflet web map exampe\n",
    "# Install the leafmap library if you haven't already\n",
    "#!pip install leafmap\n",
    "\n",
    "import leafmap\n",
    "\n",
    "# Create base map centered on East Africa\n",
    "m = leafmap.Map(center=[-18.286389, 30.517223], zoom=8)\n",
    "m.add_basemap(\"HYBRID\")  # Satellite + streets basemap\n",
    "m"
   ]
  }
 ],
 "metadata": {
  "kernelspec": {
   "display_name": "geo",
   "language": "python",
   "name": "python3"
  },
  "language_info": {
   "codemirror_mode": {
    "name": "ipython",
    "version": 3
   },
   "file_extension": ".py",
   "mimetype": "text/x-python",
   "name": "python",
   "nbconvert_exporter": "python",
   "pygments_lexer": "ipython3",
   "version": "3.12.3"
  }
 },
 "nbformat": 4,
 "nbformat_minor": 2
}
